{
  "nbformat": 4,
  "nbformat_minor": 0,
  "metadata": {
    "colab": {
      "name": "UtH1 LogReg.ipynb",
      "provenance": [],
      "collapsed_sections": [],
      "authorship_tag": "ABX9TyPN68TjPtZcjEvZG+k9iv3f",
      "include_colab_link": true
    },
    "kernelspec": {
      "name": "python3",
      "display_name": "Python 3"
    },
    "language_info": {
      "name": "python"
    }
  },
  "cells": [
    {
      "cell_type": "markdown",
      "metadata": {
        "id": "view-in-github",
        "colab_type": "text"
      },
      "source": [
        "<a href=\"https://colab.research.google.com/github/AlexanderAvocone/Under-the-Hood/blob/main/UtH1_LogReg.ipynb\" target=\"_parent\"><img src=\"https://colab.research.google.com/assets/colab-badge.svg\" alt=\"Open In Colab\"/></a>"
      ]
    },
    {
      "cell_type": "markdown",
      "metadata": {
        "id": "10hUwivh_Zz6"
      },
      "source": [
        "#**Under the Hood 1: Logistische Regression**"
      ]
    },
    {
      "cell_type": "markdown",
      "metadata": {
        "id": "HJGShXRrDvbf"
      },
      "source": [
        "##**Sigmoid Funktion:**\n",
        "$h_w(x) = \\frac{1}{1+e^{-w}}$ wobei $w = \\hat{X}\\vec{w} + b$"
      ]
    },
    {
      "cell_type": "code",
      "metadata": {
        "id": "EZRLW-21_Wyp"
      },
      "source": [
        "def sigmoid(X, w, b):\n",
        "  z = np.dot(X,w) + b\n",
        "  return 1/(1+np.exp(-z))\n"
      ],
      "execution_count": null,
      "outputs": []
    },
    {
      "cell_type": "markdown",
      "metadata": {
        "id": "b33KbBetLcts"
      },
      "source": [
        "##**Cost-Function:**\n",
        "Für die Cost-Function $J(w)$  wird die Cross-Entropy-/Log-Loss-Function $\\operatorname{Cost}\\left(h_{w}(x), y\\right)$ verwendet, da MSE (L2) keine \"glatte\" Kurve für $J(w)$ liefert.\n",
        "$\\operatorname{Cost}\\left(h_{w}(x), y\\right)=\\left\\{\\begin{array}{ll}-\\log \\left(h_{w}(x)\\right) & \\text { if } \\mathbf{y}=1 \\\\ -\\log \\left(1-h_{w}(x)\\right) & \\text { if } \\mathbf{y}=0\\end{array}\\right. $\n",
        "\n",
        "\n",
        "Hierraus folgt die Cost-Function:\n",
        "\n",
        "$J(w)=-\\frac{1}{m} \\sum_{i=1}^{m} [y_i \\log \\left(h_{w}(x_i)\\right)+(1-y_i) \\log \\left(1-h_{w}(x_i)\\right)]$"
      ]
    },
    {
      "cell_type": "code",
      "metadata": {
        "id": "ZJgep6ylEQP9"
      },
      "source": [
        "def cost_function(X, w, b, y):\n",
        "  h0 = sigmoid(X,w,b)\n",
        "  y1 = y*np.log(h0)\n",
        "  y0 = (1-y)*np.log(1-h0)\n",
        "  cost = -(y1+y0).mean()\n",
        "  return cost"
      ],
      "execution_count": null,
      "outputs": []
    },
    {
      "cell_type": "markdown",
      "metadata": {
        "id": "vwquWHsJg357"
      },
      "source": [
        "##**Gradient descent**\n",
        "Minimum der Cost-Function zur Bestimmung von $w_{new}$ und $b_{new}$ nach jeder Iteration.\n",
        "\n",
        "$\\nabla_{w}J(w) = \\frac{1}{m} \\sum_{i=1}^{m}\\left(h_{w}\\left(x^{(i)}\\right)-y^{(i)}\\right) x_{j}^{(i)}$\n",
        "woraus folgt:\n",
        "\n",
        "$w_{new} = w_i - \\alpha \\: \\partial_{w} J(w)\\:\\:\\:$   und $\\: \\:\\: b_{new} = b_i - \\alpha \\: \\partial_{b} J(w)$\n",
        "\n",
        "mit $\\left[ \\begin{array}{rr}\n",
        "\\frac{\\partial}{\\partial w}  \\\\ \n",
        "\\frac{\\partial}{\\partial b} \\\\\n",
        "\\end{array}\\right] J =\\frac{1}{m}\\left [\\begin{array}{rr}\n",
        "\\sum_{i=1}^{m} x_i^T(h_w(x_i)-y_i) \\\\ \n",
        "\\sum_{i=1}^{m}\\:\\:\\:\\:\\:\\:(h_w(x_i)-y_i) \\\\\n",
        "\\end{array}\\right] $ und $\\alpha$ als learning rate."
      ]
    },
    {
      "cell_type": "code",
      "metadata": {
        "id": "qwMWPJQm0nIt"
      },
      "source": [
        "def gradient(X, w, b, y, alpha):\n",
        " \n",
        "  h0 = sigmoid(X,w,b)\n",
        "  m = len(y)\n",
        "\n",
        "  delta_wJ = np.dot(X.T,h0-y)/m\n",
        "  delta_bJ = (h0-y).mean()\n",
        "  w = w - alpha*delta_wJ\n",
        "  b = b - alpha*delta_bJ\n",
        "  return w,b\n",
        "\n",
        "#function to find minimum\n",
        "def train(X, w, b, y, alpha, iter):\n",
        "  cost_all = []\n",
        "  w1_all = []\n",
        "  w2_all = []\n",
        "  for i in range(iter):\n",
        "    w,b = gradient(X,w,b,y,alpha)\n",
        "    cost = cost_function(X,w,b,y)\n",
        "    cost_all.append(cost)\n",
        "    w1_all.append(w[0,0])\n",
        "    w2_all.append(w[1,0])\n",
        "  return w,b,cost_all, w1_all, w2_all\n",
        "\n",
        "\n"
      ],
      "execution_count": null,
      "outputs": []
    },
    {
      "cell_type": "markdown",
      "metadata": {
        "id": "_AeFWDcNlw8_"
      },
      "source": [
        "##**Testen des Modells**"
      ]
    },
    {
      "cell_type": "code",
      "metadata": {
        "colab": {
          "base_uri": "https://localhost:8080/",
          "height": 295
        },
        "id": "NiyChsuelvXc",
        "outputId": "b792f313-5a5a-477b-f5d1-dbd4474d5e3a"
      },
      "source": [
        "import matplotlib.pyplot as plt\n",
        "import numpy as np\n",
        "import seaborn as sns\n",
        "from sklearn.datasets import load_iris\n",
        "iris = load_iris()\n",
        "\n",
        "#Daten\n",
        "#print(iris.feature_names)\n",
        "#print(iris.target_names)\n",
        "X = iris.data[:, :2]\n",
        "Y = (iris.target != 0) * 1\n",
        "sns.scatterplot(x=X[:,0], y=X[:,1], hue = Y)\n",
        "plt.title(\"Testdata: Different plants\")\n",
        "plt.xlabel(\"Sepal lenght in cm\")\n",
        "plt.ylabel(\"Sepal width in cm\")\n",
        "\n",
        "\n",
        "#Startvalues for w and b\n",
        "w = np.ones(shape= (X.shape[1],1))\n",
        "b = 0\n",
        "\n",
        "#y.shape = (150,) will be troublesome later on (h0-y) in the gradient function\n",
        "Y.shape = (150,1)\n"
      ],
      "execution_count": null,
      "outputs": [
        {
          "output_type": "display_data",
          "data": {
            "image/png": "[encoded data removed]",
            "text/plain": [
              "<Figure size 432x288 with 1 Axes>"
            ]
          },
          "metadata": {
            "tags": [],
            "needs_background": "light"
          }
        }
      ]
    },
    {
      "cell_type": "code",
      "metadata": {
        "id": "PJMKjoGC-MGu"
      },
      "source": [
        "#Data training\n",
        "\n",
        "#learning rate for the gradient descent\n",
        "lr = .001\n",
        "iterations = 50000\n",
        "\n",
        "W_final, b_final,cost, w1, w2= train(X,w,b,Y,lr,iterations)\n"
      ],
      "execution_count": null,
      "outputs": []
    },
    {
      "cell_type": "markdown",
      "metadata": {
        "id": "XzW3YeRV6Ucm"
      },
      "source": [
        "##**Visualsierung von cost und $w$**"
      ]
    },
    {
      "cell_type": "code",
      "metadata": {
        "id": "_rD7HCTDpaZZ",
        "colab": {
          "base_uri": "https://localhost:8080/",
          "height": 369
        },
        "outputId": "fab877dc-5344-4bed-d59d-c804483a172d"
      },
      "source": [
        "x_iter = np.linspace(0,iterations,iterations)\n",
        "\n",
        "\n",
        "plt.figure(figsize=(10,5), tight_layout = True)\n",
        "plt.plot(x_iter, cost, label = \"cost\")\n",
        "plt.plot(x_iter, w1, label = \"w1\")\n",
        "plt.plot(x_iter, w2, label = \"w2\")\n",
        "plt.xlabel(\"Iterations\")\n",
        "plt.ylabel(\"Relative value\")\n",
        "plt.legend()\n",
        "plt.grid()\n"
      ],
      "execution_count": null,
      "outputs": [
        {
          "output_type": "display_data",
          "data": {
            "image/png": "[encoded data removed]",
            "text/plain": [
              "<Figure size 720x360 with 1 Axes>"
            ]
          },
          "metadata": {
            "tags": [],
            "needs_background": "light"
          }
        }
      ]
    },
    {
      "cell_type": "markdown",
      "metadata": {
        "id": "5u4H1vpsBElJ"
      },
      "source": [
        "##**Vergleich mit Sklearn**"
      ]
    },
    {
      "cell_type": "code",
      "metadata": {
        "id": "N_Zf2Za35owl",
        "colab": {
          "base_uri": "https://localhost:8080/"
        },
        "outputId": "771cbcf3-ebd1-4d9a-b9c4-e2c47ca06527"
      },
      "source": [
        "from sklearn.linear_model import LogisticRegression\n",
        "from sklearn.model_selection import train_test_split\n",
        "\n",
        "logreg = LogisticRegression()\n",
        "Y.shape = (150,)\n",
        "X_train, x_test, Y_train, y_test = train_test_split(X, Y, test_size=0.33, random_state=101, stratify = Y)\n",
        "logreg.fit(X_train, Y_train)\n",
        "\n",
        "#Vergleich\n",
        "print(\"DIY-logistic regression:\")\n",
        "print(W_final.shape)\n",
        "print(\"Final w1:\",W_final[0,0], \"   Final w2:\",W_final[1,0], \"  Final b:\", b_final)\n",
        "\n",
        "coeff = logreg.coef_\n",
        "print(\"\\nSklearn:\")\n",
        "print(coeff.shape)\n",
        "print(\"Final w1:\",coeff[0,0], \"   Final w2:\",coeff[0,1])\n"
      ],
      "execution_count": null,
      "outputs": [
        {
          "output_type": "stream",
          "text": [
            "DIY-logistic regression:\n",
            "(2, 1)\n",
            "Final w1: 2.230069550754554    Final w2: -3.553930434196409   Final b: -0.7573388588429768\n",
            "\n",
            "Sklearn:\n",
            "(1, 2)\n",
            "Final w1: 2.937708819892263    Final w2: -2.749779540643096\n"
          ],
          "name": "stdout"
        }
      ]
    },
    {
      "cell_type": "code",
      "metadata": {
        "colab": {
          "base_uri": "https://localhost:8080/"
        },
        "id": "T5sk6SCJjJ5m",
        "outputId": "b3b74ec4-2a55-4c75-a19e-70fb5991aee1"
      },
      "source": [
        "from sklearn.metrics import classification_report\n",
        "h = sigmoid(X,W_final,b_final)\n",
        "h = (h >=0.5) *1\n",
        "print(\"DIY-predition:\", 1-np.sum(np.abs(h-Y))/len(Y))\n",
        "print(\"Sklearn-prediction:\",logreg.score(x_test, y_test))\n",
        "\n",
        "#print(classification_report(y_test, logreg.predict(x_test)))\n",
        "print(\"Macht Sinn, da die Datensets doch klar getrennt voneinander sind.\")"
      ],
      "execution_count": null,
      "outputs": [
        {
          "output_type": "stream",
          "text": [
            "DIY-predition: 0.9933333333333333\n",
            "Sklearn-prediction: 1.0\n",
            "Macht Sinn, da die Datensets doch klar getrennt voneinander sind.\n"
          ],
          "name": "stdout"
        }
      ]
    },
    {
      "cell_type": "code",
      "metadata": {
        "id": "CEurIr6qo5A6"
      },
      "source": [
        ""
      ],
      "execution_count": null,
      "outputs": []
    }
  ]
}